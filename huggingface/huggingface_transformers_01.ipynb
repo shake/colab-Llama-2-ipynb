{
  "nbformat": 4,
  "nbformat_minor": 0,
  "metadata": {
    "colab": {
      "provenance": [],
      "gpuType": "T4",
      "authorship_tag": "ABX9TyMlJ8pNPLCe3N/bmnsCdt1K",
      "include_colab_link": true
    },
    "kernelspec": {
      "name": "python3",
      "display_name": "Python 3"
    },
    "language_info": {
      "name": "python"
    },
    "accelerator": "GPU"
  },
  "cells": [
    {
      "cell_type": "markdown",
      "metadata": {
        "id": "view-in-github",
        "colab_type": "text"
      },
      "source": [
        "<a href=\"https://colab.research.google.com/github/shake/colab-Llama-2-ipynb/blob/main/huggingface/huggingface_transformers_01.ipynb\" target=\"_parent\"><img src=\"https://colab.research.google.com/assets/colab-badge.svg\" alt=\"Open In Colab\"/></a>"
      ]
    },
    {
      "cell_type": "code",
      "execution_count": null,
      "metadata": {
        "id": "Go6GpLsWJeS0"
      },
      "outputs": [],
      "source": [
        "# 安装最新版本的transformers, colab默认安装transformers，版本低。\n",
        "!pip -q install git+https://github.com/huggingface/transformers.git\n",
        "!pip -q install torch\n",
        "!pip -q install datasets evaluate peft accelerate gradio optimum sentencepiece\n",
        "!pip -q install scikit-learn pandas matplotlib tensorboard nltk rouge"
      ]
    },
    {
      "cell_type": "code",
      "source": [
        " !python --version"
      ],
      "metadata": {
        "colab": {
          "base_uri": "https://localhost:8080/"
        },
        "id": "pe1AmnS-j7Lu",
        "outputId": "0c5ecc52-e882-486a-b6cd-7479fc40ffb7"
      },
      "execution_count": 8,
      "outputs": [
        {
          "output_type": "stream",
          "name": "stdout",
          "text": [
            "Python 3.10.12\n"
          ]
        }
      ]
    },
    {
      "cell_type": "code",
      "source": [
        "import torch\n",
        "torch.cuda.is_available()\n"
      ],
      "metadata": {
        "colab": {
          "base_uri": "https://localhost:8080/"
        },
        "id": "mT8C7I_PgA4x",
        "outputId": "bf2f026e-4582-41f7-e9bf-c588dcf0923d"
      },
      "execution_count": 9,
      "outputs": [
        {
          "output_type": "execute_result",
          "data": {
            "text/plain": [
              "True"
            ]
          },
          "metadata": {},
          "execution_count": 9
        }
      ]
    },
    {
      "cell_type": "code",
      "source": [
        "import torch\n",
        "print(torch.__version__)"
      ],
      "metadata": {
        "colab": {
          "base_uri": "https://localhost:8080/"
        },
        "id": "KJECGXbjhot6",
        "outputId": "07b92075-4fd3-4ff8-f15c-4ad7a7a3fa4d"
      },
      "execution_count": 10,
      "outputs": [
        {
          "output_type": "stream",
          "name": "stdout",
          "text": [
            "2.1.0+cu121\n"
          ]
        }
      ]
    },
    {
      "cell_type": "code",
      "source": [
        "import transformers\n",
        "print(transformers.__version__)"
      ],
      "metadata": {
        "colab": {
          "base_uri": "https://localhost:8080/"
        },
        "id": "2RXSJ8nfg2uP",
        "outputId": "3dfc757b-ab9b-46c6-bb35-2d883cdea9e1"
      },
      "execution_count": 11,
      "outputs": [
        {
          "output_type": "stream",
          "name": "stdout",
          "text": [
            "4.37.0.dev0\n"
          ]
        }
      ]
    },
    {
      "cell_type": "markdown",
      "source": [
        "示例代码"
      ],
      "metadata": {
        "id": "YRxYYtCVVqQl"
      }
    },
    {
      "cell_type": "code",
      "source": [
        "# 文本分类\n",
        "# 导入gradio\n",
        "import gradio as gr\n",
        "# 导入transformers相关包\n",
        "from transformers import *\n",
        "# 通过Interface加载pipeline并启动文本分类服务\n",
        "gr.Interface.from_pipeline(pipeline(\"text-classification\", model=\"uer/roberta-base-finetuned-dianping-chinese\")).launch()"
      ],
      "metadata": {
        "id": "uRlNvBVKc-qj"
      },
      "execution_count": null,
      "outputs": []
    },
    {
      "cell_type": "code",
      "source": [
        "# 导入gradio\n",
        "import gradio as gr\n",
        "# 导入transformers相关包\n",
        "from transformers import *\n",
        "# 通过Interface加载pipeline并启动阅读理解服务\n",
        "gr.Interface.from_pipeline(pipeline(\"question-answering\", model=\"uer/roberta-base-chinese-extractive-qa\")).launch()"
      ],
      "metadata": {
        "id": "jeJSFV4TVpYg"
      },
      "execution_count": null,
      "outputs": []
    }
  ]
}
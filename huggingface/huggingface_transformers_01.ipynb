{
  "nbformat": 4,
  "nbformat_minor": 0,
  "metadata": {
    "colab": {
      "provenance": [],
      "gpuType": "T4",
      "authorship_tag": "ABX9TyNUGzzHIE8lESsza0hWubBA",
      "include_colab_link": true
    },
    "kernelspec": {
      "name": "python3",
      "display_name": "Python 3"
    },
    "language_info": {
      "name": "python"
    },
    "accelerator": "GPU"
  },
  "cells": [
    {
      "cell_type": "markdown",
      "metadata": {
        "id": "view-in-github",
        "colab_type": "text"
      },
      "source": [
        "<a href=\"https://colab.research.google.com/github/shake/colab-Llama-2-ipynb/blob/main/huggingface/huggingface_transformers_01.ipynb\" target=\"_parent\"><img src=\"https://colab.research.google.com/assets/colab-badge.svg\" alt=\"Open In Colab\"/></a>"
      ]
    },
    {
      "cell_type": "code",
      "execution_count": null,
      "metadata": {
        "id": "Go6GpLsWJeS0"
      },
      "outputs": [],
      "source": [
        "# 安装最新版本的transformers, colab默认安装transformers，版本低。\n",
        "!pip -q install  git+https://github.com/huggingface/transformers.git\n",
        "!pip -q install torch\n",
        "!pip -q install datasets evaluate peft accelerate gradio optimum sentencepiece\n",
        "!pip -q install  scikit-learn pandas matplotlib tensorboard nltk rouge"
      ]
    },
    {
      "cell_type": "code",
      "source": [
        "import torch\n",
        "torch.cuda.is_available()\n"
      ],
      "metadata": {
        "colab": {
          "base_uri": "https://localhost:8080/"
        },
        "id": "mT8C7I_PgA4x",
        "outputId": "ee6267a0-4046-43cf-aedb-04e463479079"
      },
      "execution_count": 2,
      "outputs": [
        {
          "output_type": "execute_result",
          "data": {
            "text/plain": [
              "True"
            ]
          },
          "metadata": {},
          "execution_count": 2
        }
      ]
    },
    {
      "cell_type": "code",
      "source": [
        "import torch\n",
        "print(torch.__version__)"
      ],
      "metadata": {
        "colab": {
          "base_uri": "https://localhost:8080/"
        },
        "id": "KJECGXbjhot6",
        "outputId": "f7eb0ea2-4709-4025-f02d-59240dfa4449"
      },
      "execution_count": 5,
      "outputs": [
        {
          "output_type": "stream",
          "name": "stdout",
          "text": [
            "2.1.0+cu121\n"
          ]
        }
      ]
    },
    {
      "cell_type": "code",
      "source": [
        "import transformers\n",
        "print(transformers.__version__)"
      ],
      "metadata": {
        "colab": {
          "base_uri": "https://localhost:8080/"
        },
        "id": "2RXSJ8nfg2uP",
        "outputId": "421e1418-b6f2-49c7-9ecb-d84a3cd0f549"
      },
      "execution_count": 3,
      "outputs": [
        {
          "output_type": "stream",
          "name": "stdout",
          "text": [
            "4.37.0.dev0\n"
          ]
        }
      ]
    },
    {
      "cell_type": "markdown",
      "source": [
        "示例代码"
      ],
      "metadata": {
        "id": "YRxYYtCVVqQl"
      }
    },
    {
      "cell_type": "code",
      "source": [
        "# 文本分类\n",
        "# 导入gradio\n",
        "import gradio as gr\n",
        "# 导入transformers相关包\n",
        "from transformers import *\n",
        "# 通过Interface加载pipeline并启动文本分类服务\n",
        "gr.Interface.from_pipeline(pipeline(\"text-classification\", model=\"uer/roberta-base-finetuned-dianping-chinese\")).launch()"
      ],
      "metadata": {
        "id": "uRlNvBVKc-qj"
      },
      "execution_count": null,
      "outputs": []
    },
    {
      "cell_type": "code",
      "source": [
        "# 导入gradio\n",
        "import gradio as gr\n",
        "# 导入transformers相关包\n",
        "from transformers import *\n",
        "# 通过Interface加载pipeline并启动阅读理解服务\n",
        "gr.Interface.from_pipeline(pipeline(\"question-answering\", model=\"uer/roberta-base-chinese-extractive-qa\")).launch()"
      ],
      "metadata": {
        "id": "jeJSFV4TVpYg"
      },
      "execution_count": null,
      "outputs": []
    }
  ]
}
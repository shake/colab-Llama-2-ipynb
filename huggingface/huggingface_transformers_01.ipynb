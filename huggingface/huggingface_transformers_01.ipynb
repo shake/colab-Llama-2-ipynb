{
  "nbformat": 4,
  "nbformat_minor": 0,
  "metadata": {
    "colab": {
      "provenance": [],
      "gpuType": "T4",
      "authorship_tag": "ABX9TyMZHeeM2kobXRy36JxToFDF",
      "include_colab_link": true
    },
    "kernelspec": {
      "name": "python3",
      "display_name": "Python 3"
    },
    "language_info": {
      "name": "python"
    },
    "accelerator": "GPU"
  },
  "cells": [
    {
      "cell_type": "markdown",
      "metadata": {
        "id": "view-in-github",
        "colab_type": "text"
      },
      "source": [
        "<a href=\"https://colab.research.google.com/github/shake/colab-Llama-2-ipynb/blob/main/huggingface/huggingface_transformers_01.ipynb\" target=\"_parent\"><img src=\"https://colab.research.google.com/assets/colab-badge.svg\" alt=\"Open In Colab\"/></a>"
      ]
    },
    {
      "cell_type": "code",
      "execution_count": null,
      "metadata": {
        "id": "Go6GpLsWJeS0"
      },
      "outputs": [],
      "source": [
        "!pip -q install transformers datasets evaluate peft accelerate gradio optimum sentencepiece\n",
        "!pip -q install  scikit-learn pandas matplotlib tensorboard nltk rouge"
      ]
    },
    {
      "cell_type": "markdown",
      "source": [
        "示例代码"
      ],
      "metadata": {
        "id": "YRxYYtCVVqQl"
      }
    },
    {
      "cell_type": "code",
      "source": [
        "#文本分类\n",
        "# 导入gradio\n",
        "import gradio as gr\n",
        "# 导入transformers相关包\n",
        "from transformers import *\n",
        "# 通过Interface加载pipeline并启动文本分类服务\n",
        "gr.Interface.from_pipeline(pipeline(\"text-classification\", model=\"uer/roberta-base-finetuned-dianping-chinese\")).launch()"
      ],
      "metadata": {
        "id": "uRlNvBVKc-qj"
      },
      "execution_count": null,
      "outputs": []
    },
    {
      "cell_type": "code",
      "source": [
        "# 导入gradio\n",
        "import gradio as gr\n",
        "# 导入transformers相关包\n",
        "from transformers import *\n",
        "# 通过Interface加载pipeline并启动阅读理解服务\n",
        "gr.Interface.from_pipeline(pipeline(\"question-answering\", model=\"uer/roberta-base-chinese-extractive-qa\")).launch()"
      ],
      "metadata": {
        "id": "jeJSFV4TVpYg"
      },
      "execution_count": null,
      "outputs": []
    }
  ]
}
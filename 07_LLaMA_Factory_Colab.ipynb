{
  "nbformat": 4,
  "nbformat_minor": 0,
  "metadata": {
    "colab": {
      "provenance": [],
      "authorship_tag": "ABX9TyPL/JHwOSLblZN37cQ5i4UC",
      "include_colab_link": true
    },
    "kernelspec": {
      "name": "python3",
      "display_name": "Python 3"
    },
    "language_info": {
      "name": "python"
    }
  },
  "cells": [
    {
      "cell_type": "markdown",
      "metadata": {
        "id": "view-in-github",
        "colab_type": "text"
      },
      "source": [
        "<a href=\"https://colab.research.google.com/github/shake/colab-Llama-2-ipynb/blob/main/07_LLaMA_Factory_Colab.ipynb\" target=\"_parent\"><img src=\"https://colab.research.google.com/assets/colab-badge.svg\" alt=\"Open In Colab\"/></a>"
      ]
    },
    {
      "cell_type": "code",
      "source": [
        "!pip install -q bitsandbytes>=0.39.0 huggingface_hub>=0.8.1"
      ],
      "metadata": {
        "id": "myTq24yh6U2Y"
      },
      "execution_count": null,
      "outputs": []
    },
    {
      "cell_type": "code",
      "execution_count": null,
      "metadata": {
        "id": "SMPOZ1_T4-MY"
      },
      "outputs": [],
      "source": [
        "# 安装llama factory\n",
        "!git clone -q https://github.com/hiyouga/LLaMA-Factory.git\n",
        "%cd ./LLaMA-Factory\n",
        "!pip install -q -r requirements.txt\n",
        "%cd .."
      ]
    },
    {
      "cell_type": "code",
      "source": [
        "# web UI\n",
        "train_web_py_file_path = \"./src/train_web.py\"\n",
        "try:\n",
        "  with open(train_web_py_file_path, 'r') as file:\n",
        "    file_content = file.read()\n",
        "  modified_content = file_content.replace(\"share=False\", \"share=True\")\n",
        "  with open(train_web_py_file_path, 'w') as file:\n",
        "    file.write(modified_content)\n",
        "except Exception as e:\n",
        "    print(f'ERROR: {str(e)}')\n"
      ],
      "metadata": {
        "id": "X4hBqvUX5l7W"
      },
      "execution_count": null,
      "outputs": []
    },
    {
      "cell_type": "code",
      "source": [
        "# 启动web UI\n",
        "!CUDA_VISIBLE_DEVICES=0 python src/train_web.py"
      ],
      "metadata": {
        "id": "EfdyQwoV51WM"
      },
      "execution_count": null,
      "outputs": []
    },
    {
      "cell_type": "code",
      "source": [
        "# import 密钥\n",
        "from google.colab import userdata\n",
        "hf_token = userdata.get('huggingface')\n",
        "!git config --global credential.helper store\n",
        "!huggingface-cli login --token $hf_token --add-to-git-credential"
      ],
      "metadata": {
        "id": "AZLCZZYu6BJ4"
      },
      "execution_count": null,
      "outputs": []
    },
    {
      "cell_type": "code",
      "source": [
        "# uplaod to huggingface\n",
        "from huggingface_hub import HfApi\n",
        "api = HfApi()\n",
        "\n",
        "model_id = \"username/fine-tune-model\" #@param {type:\"string\"}\n",
        "export_folder_path = \"/content/LLaMA-Factory/export\" #@param {type:\"string\"}\n",
        "api.create_repo(model_id, private=True, exist_ok=True, repo_type=\"model\")\n",
        "api.upload_folder(\n",
        "    folder_path=export_folder_path,\n",
        "    repo_id=model_id,\n",
        ")"
      ],
      "metadata": {
        "id": "F1ahB2l46t4y"
      },
      "execution_count": null,
      "outputs": []
    }
  ]
}